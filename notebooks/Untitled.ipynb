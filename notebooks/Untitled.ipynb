{
 "cells": [
  {
   "cell_type": "code",
   "execution_count": 1,
   "id": "8c6746db-8fe1-4084-8126-c68eb5f6b3b7",
   "metadata": {},
   "outputs": [
    {
     "name": "stdout",
     "output_type": "stream",
     "text": [
      "Collecting redis\n",
      "  Downloading redis-6.0.0-py3-none-any.whl.metadata (10 kB)\n",
      "Downloading redis-6.0.0-py3-none-any.whl (268 kB)\n",
      "\u001b[2K   \u001b[90m━━━━━━━━━━━━━━━━━━━━━━━━━━━━━━━━━━━━━━━━\u001b[0m \u001b[32m268.9/268.9 kB\u001b[0m \u001b[31m1.0 MB/s\u001b[0m eta \u001b[36m0:00:00\u001b[0m00:01\u001b[0m00:01\u001b[0mm\n",
      "\u001b[?25hInstalling collected packages: redis\n",
      "Successfully installed redis-6.0.0\n"
     ]
    }
   ],
   "source": [
    "!pip install redis"
   ]
  },
  {
   "cell_type": "code",
   "execution_count": 15,
   "id": "8a5cdb1b-4703-4a16-97b9-28babe0f31ef",
   "metadata": {},
   "outputs": [],
   "source": [
    "import redis\n",
    "r = redis.Redis(host='redis', port=6379, decode_responses=True)"
   ]
  },
  {
   "cell_type": "code",
   "execution_count": 16,
   "id": "0c0bea8c-4c9a-42ec-9c5a-34a28b89cce4",
   "metadata": {},
   "outputs": [
    {
     "data": {
      "text/plain": [
       "True"
      ]
     },
     "execution_count": 16,
     "metadata": {},
     "output_type": "execute_result"
    }
   ],
   "source": [
    "r.ping()"
   ]
  },
  {
   "cell_type": "code",
   "execution_count": 17,
   "id": "055db1c3-de1f-4da5-8e70-da27c2a01112",
   "metadata": {},
   "outputs": [
    {
     "name": "stdout",
     "output_type": "stream",
     "text": [
      "Nombre d'acteurs : 1320\n",
      "Nombre de films : 922\n"
     ]
    }
   ],
   "source": [
    "n_actors = len([k for k in r.scan_iter(\"actor:*\")])\n",
    "n_movies = len([k for k in r.scan_iter(\"movie:*\")])\n",
    "print(\"Nombre d'acteurs :\", n_actors)\n",
    "print(\"Nombre de films :\", n_movies)"
   ]
  },
  {
   "cell_type": "code",
   "execution_count": 18,
   "id": "1a36d756-49d9-4242-82be-ebcb2ea7f79d",
   "metadata": {},
   "outputs": [
    {
     "data": {
      "text/plain": [
       "[{'first_name': 'Wesley', 'last_name': 'Snipes', 'date_of_birth': '1962'},\n",
       " {'first_name': 'Tommy', 'last_name': 'Lee Jones', 'date_of_birth': '1946'},\n",
       " {'first_name': 'Andrew', 'last_name': 'Rannells', 'date_of_birth': '1978'},\n",
       " {'first_name': 'Mahershala', 'last_name': 'Ali', 'date_of_birth': '1974'},\n",
       " {'first_name': 'Andrew', 'last_name': 'Scott', 'date_of_birth': '1976'}]"
      ]
     },
     "execution_count": 18,
     "metadata": {},
     "output_type": "execute_result"
    }
   ],
   "source": [
    "actors = []\n",
    "for key in r.scan_iter(\"actor:*\"):\n",
    "    dob = int(r.hget(key, \"date_of_birth\"))\n",
    "    if dob < 1980:\n",
    "        actors.append(r.hgetall(key))\n",
    "    if len(actors) >= 5:\n",
    "        break\n",
    "actors\n"
   ]
  },
  {
   "cell_type": "code",
   "execution_count": 19,
   "id": "512ef41f-4342-4b34-9efb-eea9685be0e5",
   "metadata": {},
   "outputs": [
    {
     "name": "stdout",
     "output_type": "stream",
     "text": [
      "Genre : Biography | Note : 8.5\n"
     ]
    }
   ],
   "source": [
    "\n",
    "for key in r.scan_iter(\"movie:*\"):\n",
    "    if r.hget(key, \"title\") == \"The Imitation Game\":\n",
    "        genre = r.hget(key, \"genre\")\n",
    "        rating = r.hget(key, \"rating\")\n",
    "        print(f\"Genre : {genre} | Note : {rating}\")\n",
    "        break"
   ]
  },
  {
   "cell_type": "code",
   "execution_count": 20,
   "id": "5d596fd3-68fc-455e-9e35-04bf497d95fc",
   "metadata": {},
   "outputs": [
    {
     "data": {
      "text/plain": [
       "[('Boy 9', 9.4),\n",
       " ('Vegas (doc)', 9.4),\n",
       " ('The Shawshank Redemption', 9.3),\n",
       " ('Ween Live in Chicago', 9.2),\n",
       " ('Over Canada: An Aerial Adventure', 9.1)]"
      ]
     },
     "execution_count": 20,
     "metadata": {},
     "output_type": "execute_result"
    }
   ],
   "source": [
    "\n",
    "top_movies = sorted(\n",
    "    [(r.hget(k, \"title\"), float(r.hget(k, \"rating\") or 0))\n",
    "     for k in r.scan_iter(\"movie:*\")],\n",
    "    key=lambda x: x[1], reverse=True\n",
    ")[:5]\n",
    "top_movies\n"
   ]
  },
  {
   "cell_type": "code",
   "execution_count": 21,
   "id": "3bc8c509-feda-4ad3-bc3a-0f3797001d99",
   "metadata": {},
   "outputs": [
    {
     "name": "stdout",
     "output_type": "stream",
     "text": [
      "Nombre de films avec note > 7.5 : 183\n"
     ]
    }
   ],
   "source": [
    "high_rating_count = sum(\n",
    "    1 for k in r.scan_iter(\"movie:*\")\n",
    "    if float(r.hget(k, \"rating\") or 0) > 7.5\n",
    ")\n",
    "print(\"Nombre de films avec note > 7.5 :\", high_rating_count)\n"
   ]
  },
  {
   "cell_type": "code",
   "execution_count": 22,
   "id": "e988dbdd-3e89-4308-bcc8-b1776d15c19d",
   "metadata": {},
   "outputs": [
    {
     "name": "stdout",
     "output_type": "stream",
     "text": [
      "Mise à jour réussie.\n"
     ]
    }
   ],
   "source": [
    "for key in r.scan_iter(\"movie:*\"):\n",
    "    if r.hget(key, \"title\") == \"The Imitation Game\":\n",
    "        r.hset(key, \"rating\", 8.5)\n",
    "        print(\"Mise à jour réussie.\")\n",
    "        break\n"
   ]
  },
  {
   "cell_type": "code",
   "execution_count": 23,
   "id": "b8d73394-9436-4372-bfeb-6d129219eb37",
   "metadata": {},
   "outputs": [
    {
     "name": "stdout",
     "output_type": "stream",
     "text": [
      "Acteur ajouté avec ID : 1321\n"
     ]
    }
   ],
   "source": [
    "\n",
    "new_id = max(int(k.split(\":\")[1]) for k in r.scan_iter(\"actor:*\")) + 1\n",
    "r.hset(f\"actor:{new_id}\", mapping={\"first_name\": \"Zendaya\", \"last_name\": \"\", \"date_of_birth\": 1996})\n",
    "print(\"Acteur ajouté avec ID :\", new_id)\n"
   ]
  },
  {
   "cell_type": "code",
   "execution_count": 24,
   "id": "8d810085-6ea5-4a7f-adc6-4338c382d5bd",
   "metadata": {},
   "outputs": [],
   "source": [
    "for key in r.scan_iter(\"movie:*\"):\n",
    "    if r.hget(key, \"title\") == \"The Room\":\n",
    "        r.delete(key)\n",
    "        print(\"Film supprimé :\", key)\n",
    "        break\n"
   ]
  },
  {
   "cell_type": "code",
   "execution_count": null,
   "id": "af5e6695-985e-47bc-8df4-a4849cb94db3",
   "metadata": {},
   "outputs": [],
   "source": []
  },
  {
   "cell_type": "code",
   "execution_count": null,
   "id": "7ee31f92-7e17-4576-a503-7b6ccf7e26a3",
   "metadata": {},
   "outputs": [],
   "source": []
  }
 ],
 "metadata": {
  "kernelspec": {
   "display_name": "Python 3 (ipykernel)",
   "language": "python",
   "name": "python3"
  },
  "language_info": {
   "codemirror_mode": {
    "name": "ipython",
    "version": 3
   },
   "file_extension": ".py",
   "mimetype": "text/x-python",
   "name": "python",
   "nbconvert_exporter": "python",
   "pygments_lexer": "ipython3",
   "version": "3.11.6"
  }
 },
 "nbformat": 4,
 "nbformat_minor": 5
}
