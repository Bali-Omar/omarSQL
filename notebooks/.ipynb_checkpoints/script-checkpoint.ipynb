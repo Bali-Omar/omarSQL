{
 "cells": [
  {
   "cell_type": "code",
   "execution_count": null,
   "id": "d3dfa7f2-229d-43f7-80b0-b92c6fe0d965",
   "metadata": {},
   "outputs": [],
   "source": [
    "import redis\n",
    "\n",
    "# 1. Connexion à Redis\n",
    "r = redis.Redis(host='localhost', port=6379, decode_responses=True)\n",
    "\n",
    "# 2. Compter les acteurs dont le nom de famille commence par \"P\"\n",
    "count_p_lastname = 0\n",
    "for key in r.scan_iter(\"actor:*\"):\n",
    "    last_name = r.hget(key, \"last_name\")\n",
    "    if last_name and last_name.startswith(\"P\"):\n",
    "        count_p_lastname += 1\n",
    "print(\"Nombre d'acteurs avec un nom commençant par 'P' :\", count_p_lastname)\n",
    "\n",
    "# 3. Tous les films après 2010 avec plus de 100 000 votes\n",
    "selected_movies = []\n",
    "for key in r.scan_iter(\"movie:*\"):\n",
    "    year = int(r.hget(key, \"release_year\") or 0)\n",
    "    votes = int(r.hget(key, \"votes\") or 0)\n",
    "    if year > 2010 and votes > 100000:\n",
    "        selected_movies.append(r.hgetall(key))\n",
    "print(\"Films après 2010 avec +100k votes :\", len(selected_movies))\n",
    "\n",
    "# 4. Créer un hash : top_movies_by_genre:<genre> pour les meilleurs films par genre\n",
    "top_by_genre = {}\n",
    "for key in r.scan_iter(\"movie:*\"):\n",
    "    genre = r.hget(key, \"genre\")\n",
    "    rating = float(r.hget(key, \"rating\") or 0)\n",
    "    if genre not in top_by_genre or rating > top_by_genre[genre][1]:\n",
    "        top_by_genre[genre] = (key, rating)\n",
    "\n",
    "# Créer les hash dans Redis\n",
    "for genre, (key, _) in top_by_genre.items():\n",
    "    movie_data = r.hgetall(key)\n",
    "    r.hset(f\"top_movies_by_genre:{genre}\", mapping=movie_data)\n",
    "    print(f\"✅ Hash créé : top_movies_by_genre:{genre}\")\n"
   ]
  }
 ],
 "metadata": {
  "kernelspec": {
   "display_name": "Python 3 (ipykernel)",
   "language": "python",
   "name": "python3"
  },
  "language_info": {
   "codemirror_mode": {
    "name": "ipython",
    "version": 3
   },
   "file_extension": ".py",
   "mimetype": "text/x-python",
   "name": "python",
   "nbconvert_exporter": "python",
   "pygments_lexer": "ipython3",
   "version": "3.11.6"
  }
 },
 "nbformat": 4,
 "nbformat_minor": 5
}
